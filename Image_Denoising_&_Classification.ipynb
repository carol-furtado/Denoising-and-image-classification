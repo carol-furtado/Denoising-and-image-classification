{
  "nbformat": 4,
  "nbformat_minor": 0,
  "metadata": {
    "colab": {
      "provenance": [],
      "authorship_tag": "ABX9TyM7/4Ug5TM+ue8kIL4tklF9",
      "include_colab_link": true
    },
    "kernelspec": {
      "name": "python3",
      "display_name": "Python 3"
    },
    "language_info": {
      "name": "python"
    }
  },
  "cells": [
    {
      "cell_type": "markdown",
      "metadata": {
        "id": "view-in-github",
        "colab_type": "text"
      },
      "source": [
        "<a href=\"https://colab.research.google.com/github/carol-furtado/Denoising-and-image-classification/blob/main/Image_Denoising_%26_Classification.ipynb\" target=\"_parent\"><img src=\"https://colab.research.google.com/assets/colab-badge.svg\" alt=\"Open In Colab\"/></a>"
      ]
    },
    {
      "cell_type": "code",
      "execution_count": 2,
      "metadata": {
        "id": "9O_c6sUiKHgf"
      },
      "outputs": [],
      "source": [
        "import numpy as np\n",
        "import matplotlib.pyplot as plt\n",
        "import tensorflow as tf\n",
        "from tensorflow import keras\n",
        "from tensorflow.keras import layers, losses\n",
        "from tensorflow.keras.models import Model"
      ]
    },
    {
      "cell_type": "code",
      "source": [
        "from google.colab import files\n",
        "uploaded = files.upload()\n"
      ],
      "metadata": {
        "id": "INS-LPudDGeR",
        "outputId": "a957b3a6-ac77-4750-cb4b-1784a8f2fa9b",
        "colab": {
          "base_uri": "https://localhost:8080/",
          "height": 73
        }
      },
      "execution_count": 3,
      "outputs": [
        {
          "output_type": "display_data",
          "data": {
            "text/plain": [
              "<IPython.core.display.HTML object>"
            ],
            "text/html": [
              "\n",
              "     <input type=\"file\" id=\"files-8ab59fc9-9dd6-497f-ba3b-e6f2ff68af57\" name=\"files[]\" multiple disabled\n",
              "        style=\"border:none\" />\n",
              "     <output id=\"result-8ab59fc9-9dd6-497f-ba3b-e6f2ff68af57\">\n",
              "      Upload widget is only available when the cell has been executed in the\n",
              "      current browser session. Please rerun this cell to enable.\n",
              "      </output>\n",
              "      <script>// Copyright 2017 Google LLC\n",
              "//\n",
              "// Licensed under the Apache License, Version 2.0 (the \"License\");\n",
              "// you may not use this file except in compliance with the License.\n",
              "// You may obtain a copy of the License at\n",
              "//\n",
              "//      http://www.apache.org/licenses/LICENSE-2.0\n",
              "//\n",
              "// Unless required by applicable law or agreed to in writing, software\n",
              "// distributed under the License is distributed on an \"AS IS\" BASIS,\n",
              "// WITHOUT WARRANTIES OR CONDITIONS OF ANY KIND, either express or implied.\n",
              "// See the License for the specific language governing permissions and\n",
              "// limitations under the License.\n",
              "\n",
              "/**\n",
              " * @fileoverview Helpers for google.colab Python module.\n",
              " */\n",
              "(function(scope) {\n",
              "function span(text, styleAttributes = {}) {\n",
              "  const element = document.createElement('span');\n",
              "  element.textContent = text;\n",
              "  for (const key of Object.keys(styleAttributes)) {\n",
              "    element.style[key] = styleAttributes[key];\n",
              "  }\n",
              "  return element;\n",
              "}\n",
              "\n",
              "// Max number of bytes which will be uploaded at a time.\n",
              "const MAX_PAYLOAD_SIZE = 100 * 1024;\n",
              "\n",
              "function _uploadFiles(inputId, outputId) {\n",
              "  const steps = uploadFilesStep(inputId, outputId);\n",
              "  const outputElement = document.getElementById(outputId);\n",
              "  // Cache steps on the outputElement to make it available for the next call\n",
              "  // to uploadFilesContinue from Python.\n",
              "  outputElement.steps = steps;\n",
              "\n",
              "  return _uploadFilesContinue(outputId);\n",
              "}\n",
              "\n",
              "// This is roughly an async generator (not supported in the browser yet),\n",
              "// where there are multiple asynchronous steps and the Python side is going\n",
              "// to poll for completion of each step.\n",
              "// This uses a Promise to block the python side on completion of each step,\n",
              "// then passes the result of the previous step as the input to the next step.\n",
              "function _uploadFilesContinue(outputId) {\n",
              "  const outputElement = document.getElementById(outputId);\n",
              "  const steps = outputElement.steps;\n",
              "\n",
              "  const next = steps.next(outputElement.lastPromiseValue);\n",
              "  return Promise.resolve(next.value.promise).then((value) => {\n",
              "    // Cache the last promise value to make it available to the next\n",
              "    // step of the generator.\n",
              "    outputElement.lastPromiseValue = value;\n",
              "    return next.value.response;\n",
              "  });\n",
              "}\n",
              "\n",
              "/**\n",
              " * Generator function which is called between each async step of the upload\n",
              " * process.\n",
              " * @param {string} inputId Element ID of the input file picker element.\n",
              " * @param {string} outputId Element ID of the output display.\n",
              " * @return {!Iterable<!Object>} Iterable of next steps.\n",
              " */\n",
              "function* uploadFilesStep(inputId, outputId) {\n",
              "  const inputElement = document.getElementById(inputId);\n",
              "  inputElement.disabled = false;\n",
              "\n",
              "  const outputElement = document.getElementById(outputId);\n",
              "  outputElement.innerHTML = '';\n",
              "\n",
              "  const pickedPromise = new Promise((resolve) => {\n",
              "    inputElement.addEventListener('change', (e) => {\n",
              "      resolve(e.target.files);\n",
              "    });\n",
              "  });\n",
              "\n",
              "  const cancel = document.createElement('button');\n",
              "  inputElement.parentElement.appendChild(cancel);\n",
              "  cancel.textContent = 'Cancel upload';\n",
              "  const cancelPromise = new Promise((resolve) => {\n",
              "    cancel.onclick = () => {\n",
              "      resolve(null);\n",
              "    };\n",
              "  });\n",
              "\n",
              "  // Wait for the user to pick the files.\n",
              "  const files = yield {\n",
              "    promise: Promise.race([pickedPromise, cancelPromise]),\n",
              "    response: {\n",
              "      action: 'starting',\n",
              "    }\n",
              "  };\n",
              "\n",
              "  cancel.remove();\n",
              "\n",
              "  // Disable the input element since further picks are not allowed.\n",
              "  inputElement.disabled = true;\n",
              "\n",
              "  if (!files) {\n",
              "    return {\n",
              "      response: {\n",
              "        action: 'complete',\n",
              "      }\n",
              "    };\n",
              "  }\n",
              "\n",
              "  for (const file of files) {\n",
              "    const li = document.createElement('li');\n",
              "    li.append(span(file.name, {fontWeight: 'bold'}));\n",
              "    li.append(span(\n",
              "        `(${file.type || 'n/a'}) - ${file.size} bytes, ` +\n",
              "        `last modified: ${\n",
              "            file.lastModifiedDate ? file.lastModifiedDate.toLocaleDateString() :\n",
              "                                    'n/a'} - `));\n",
              "    const percent = span('0% done');\n",
              "    li.appendChild(percent);\n",
              "\n",
              "    outputElement.appendChild(li);\n",
              "\n",
              "    const fileDataPromise = new Promise((resolve) => {\n",
              "      const reader = new FileReader();\n",
              "      reader.onload = (e) => {\n",
              "        resolve(e.target.result);\n",
              "      };\n",
              "      reader.readAsArrayBuffer(file);\n",
              "    });\n",
              "    // Wait for the data to be ready.\n",
              "    let fileData = yield {\n",
              "      promise: fileDataPromise,\n",
              "      response: {\n",
              "        action: 'continue',\n",
              "      }\n",
              "    };\n",
              "\n",
              "    // Use a chunked sending to avoid message size limits. See b/62115660.\n",
              "    let position = 0;\n",
              "    do {\n",
              "      const length = Math.min(fileData.byteLength - position, MAX_PAYLOAD_SIZE);\n",
              "      const chunk = new Uint8Array(fileData, position, length);\n",
              "      position += length;\n",
              "\n",
              "      const base64 = btoa(String.fromCharCode.apply(null, chunk));\n",
              "      yield {\n",
              "        response: {\n",
              "          action: 'append',\n",
              "          file: file.name,\n",
              "          data: base64,\n",
              "        },\n",
              "      };\n",
              "\n",
              "      let percentDone = fileData.byteLength === 0 ?\n",
              "          100 :\n",
              "          Math.round((position / fileData.byteLength) * 100);\n",
              "      percent.textContent = `${percentDone}% done`;\n",
              "\n",
              "    } while (position < fileData.byteLength);\n",
              "  }\n",
              "\n",
              "  // All done.\n",
              "  yield {\n",
              "    response: {\n",
              "      action: 'complete',\n",
              "    }\n",
              "  };\n",
              "}\n",
              "\n",
              "scope.google = scope.google || {};\n",
              "scope.google.colab = scope.google.colab || {};\n",
              "scope.google.colab._files = {\n",
              "  _uploadFiles,\n",
              "  _uploadFilesContinue,\n",
              "};\n",
              "})(self);\n",
              "</script> "
            ]
          },
          "metadata": {}
        },
        {
          "output_type": "stream",
          "name": "stdout",
          "text": [
            "Saving train.zip to train (1).zip\n"
          ]
        }
      ]
    },
    {
      "cell_type": "code",
      "source": [
        "import zipfile\n",
        "\n",
        "with zipfile.ZipFile(\"train.zip\", 'r') as zip_ref:\n",
        "    zip_ref.extractall(\"train\")\n"
      ],
      "metadata": {
        "id": "_CpCzVsJHdHf"
      },
      "execution_count": 4,
      "outputs": []
    },
    {
      "cell_type": "code",
      "source": [
        "!ls /content\n"
      ],
      "metadata": {
        "id": "eEFT5vsJUIAP",
        "outputId": "0dcd450f-3530-4266-c0bd-76037cdcfd85",
        "colab": {
          "base_uri": "https://localhost:8080/"
        }
      },
      "execution_count": 5,
      "outputs": [
        {
          "output_type": "stream",
          "name": "stdout",
          "text": [
            " sample_data   train  'train (1).zip'   train.zip\n"
          ]
        }
      ]
    },
    {
      "cell_type": "code",
      "source": [
        "data_dir_clean = \"/content/train/train/clean\"\n",
        "data_dir_noisy = \"/content/train/train/noisy\"\n",
        "normalization_layer = tf.keras.layers.Rescaling(1./255)\n",
        "\n",
        "clean = tf.keras.utils.image_dataset_from_directory(\n",
        "    data_dir_clean,\n",
        "    labels=None,\n",
        "\n",
        "    image_size=(224,224),\n",
        "    batch_size=32,\n",
        "    shuffle=False\n",
        ").map(lambda x: (normalization_layer(x)))\n",
        "\n",
        "\n",
        "noisy = tf.keras.utils.image_dataset_from_directory(\n",
        "    data_dir_noisy,\n",
        "    labels=None,\n",
        "\n",
        "    image_size=(224,224),\n",
        "    batch_size=32,\n",
        "    shuffle=False\n",
        ").map(lambda x: (normalization_layer(x)))\n"
      ],
      "metadata": {
        "id": "LirdP-x3H6rG",
        "outputId": "7b95ded4-e3a1-497a-bafb-f73c1cfd9796",
        "colab": {
          "base_uri": "https://localhost:8080/"
        }
      },
      "execution_count": 6,
      "outputs": [
        {
          "output_type": "stream",
          "name": "stdout",
          "text": [
            "Found 1795 files.\n",
            "Found 1795 files.\n"
          ]
        }
      ]
    },
    {
      "cell_type": "code",
      "source": [
        "import numpy as np\n",
        "\n",
        "# Convert TF dataset to numpy array (no labels since label_mode=None)\n",
        "def dataset_to_numpy(dataset):\n",
        "    images = []\n",
        "    for batch in dataset:\n",
        "        images.append(batch.numpy())   # each batch is a tensor of shape (batch_size, h, w, c)\n",
        "    return np.concatenate(images, axis=0)\n",
        "\n",
        "# Example\n",
        "clean_train_images = dataset_to_numpy(clean)\n",
        "noisy_train_images = dataset_to_numpy(noisy)\n",
        "\n",
        "print(clean_train_images.shape)\n",
        "print(noisy_train_images.shape)\n"
      ],
      "metadata": {
        "id": "REEicVjLb_O4",
        "outputId": "aca4c19c-1086-49d0-c603-3e37e3d32975",
        "colab": {
          "base_uri": "https://localhost:8080/"
        }
      },
      "execution_count": 7,
      "outputs": [
        {
          "output_type": "stream",
          "name": "stdout",
          "text": [
            "(1795, 224, 224, 3)\n",
            "(1795, 224, 224, 3)\n"
          ]
        }
      ]
    },
    {
      "cell_type": "code",
      "source": [
        "import tensorflow as tf\n",
        "from tensorflow.keras import layers, Model\n",
        "\n",
        "class ConvAutoencoder(Model):\n",
        "    def __init__(self, latent_dim=128):\n",
        "        super(ConvAutoencoder, self).__init__()\n",
        "\n",
        "\n",
        "        self.encoder = tf.keras.Sequential([\n",
        "            layers.Input(shape=(224, 224, 3)),\n",
        "            layers.Conv2D(32, (3,3), activation='relu', padding='same', strides=2),\n",
        "            layers.Conv2D(64, (3,3), activation='relu', padding='same', strides=2),\n",
        "            layers.Conv2D(128, (3,3), activation='relu', padding='same', strides=2),\n",
        "            layers.Conv2D(256, (3,3), activation='relu', padding='same', strides=2),\n",
        "            layers.Flatten(),\n",
        "            layers.Dense(latent_dim, activation='relu')\n",
        "        ])\n",
        "\n",
        "\n",
        "        self.decoder = tf.keras.Sequential([\n",
        "            layers.Dense(14*14*256, activation='relu'),\n",
        "            layers.Reshape((14, 14, 256)),\n",
        "            layers.Conv2DTranspose(128, (3,3), strides=2, activation='relu', padding='same'),\n",
        "            layers.Conv2DTranspose(64, (3,3), strides=2, activation='relu', padding='same'),\n",
        "            layers.Conv2DTranspose(32, (3,3), strides=2, activation='relu', padding='same'),\n",
        "            layers.Conv2DTranspose(3, (3,3), strides=2, activation='sigmoid', padding='same')\n",
        "        ])\n",
        "\n",
        "    def call(self, input_data):\n",
        "        encoded = self.encoder(input_data)\n",
        "        decoded = self.decoder(encoded)\n",
        "        return decoded\n"
      ],
      "metadata": {
        "id": "2PCUgzreVVb-"
      },
      "execution_count": 8,
      "outputs": []
    },
    {
      "cell_type": "code",
      "source": [
        "\n",
        "import tensorflow.image as tfi\n",
        "\n",
        "def psnr_metric(y_true, y_pred):\n",
        "    return tfi.psnr(y_true, y_pred, max_val=1.0)\n",
        "\n",
        "def ssim_metric(y_true, y_pred):\n",
        "    return tfi.ssim(y_true, y_pred, max_val=1.0)\n"
      ],
      "metadata": {
        "id": "A4Z1cTm5V1An"
      },
      "execution_count": 9,
      "outputs": []
    },
    {
      "cell_type": "code",
      "source": [
        "\n",
        "#compile\n",
        "autoencoder=ConvAutoencoder()\n",
        "autoencoder.compile(\n",
        "    optimizer='adam',\n",
        "    loss='mse',\n",
        "    metrics=[psnr_metric, ssim_metric]\n",
        ")\n"
      ],
      "metadata": {
        "id": "VtoGiC4GWE2e"
      },
      "execution_count": 10,
      "outputs": []
    },
    {
      "cell_type": "code",
      "source": [
        "history = autoencoder.fit(\n",
        "    x=tf.convert_to_tensor(noisy_train_images, dtype=tf.float32),\n",
        "    y=tf.convert_to_tensor(clean_train_images, dtype=tf.float32),\n",
        "    epochs=20,\n",
        "    batch_size=32,\n",
        "    validation_split=0.2,\n",
        "    shuffle=True\n",
        ")"
      ],
      "metadata": {
        "colab": {
          "base_uri": "https://localhost:8080/"
        },
        "id": "pi6-Srk7182T",
        "outputId": "55491728-9c98-43f1-ea93-ae20c6d9e9eb"
      },
      "execution_count": 11,
      "outputs": [
        {
          "output_type": "stream",
          "name": "stdout",
          "text": [
            "Epoch 1/20\n",
            "\u001b[1m45/45\u001b[0m \u001b[32m━━━━━━━━━━━━━━━━━━━━\u001b[0m\u001b[37m\u001b[0m \u001b[1m583s\u001b[0m 13s/step - loss: 0.0897 - psnr_metric: 10.8556 - ssim_metric: 0.3303 - val_loss: 0.0740 - val_psnr_metric: 11.6781 - val_ssim_metric: 0.2873\n",
            "Epoch 2/20\n",
            "\u001b[1m45/45\u001b[0m \u001b[32m━━━━━━━━━━━━━━━━━━━━\u001b[0m\u001b[37m\u001b[0m \u001b[1m562s\u001b[0m 12s/step - loss: 0.0698 - psnr_metric: 12.0005 - ssim_metric: 0.3185 - val_loss: 0.0586 - val_psnr_metric: 12.7712 - val_ssim_metric: 0.3388\n",
            "Epoch 3/20\n",
            "\u001b[1m45/45\u001b[0m \u001b[32m━━━━━━━━━━━━━━━━━━━━\u001b[0m\u001b[37m\u001b[0m \u001b[1m566s\u001b[0m 13s/step - loss: 0.0530 - psnr_metric: 13.3186 - ssim_metric: 0.3566 - val_loss: 0.0486 - val_psnr_metric: 13.3913 - val_ssim_metric: 0.3012\n",
            "Epoch 4/20\n",
            "\u001b[1m45/45\u001b[0m \u001b[32m━━━━━━━━━━━━━━━━━━━━\u001b[0m\u001b[37m\u001b[0m \u001b[1m623s\u001b[0m 13s/step - loss: 0.0431 - psnr_metric: 14.1318 - ssim_metric: 0.3509 - val_loss: 0.0434 - val_psnr_metric: 13.9382 - val_ssim_metric: 0.3367\n",
            "Epoch 5/20\n",
            "\u001b[1m45/45\u001b[0m \u001b[32m━━━━━━━━━━━━━━━━━━━━\u001b[0m\u001b[37m\u001b[0m \u001b[1m572s\u001b[0m 12s/step - loss: 0.0387 - psnr_metric: 14.6113 - ssim_metric: 0.3784 - val_loss: 0.0405 - val_psnr_metric: 14.2398 - val_ssim_metric: 0.3500\n",
            "Epoch 6/20\n",
            "\u001b[1m45/45\u001b[0m \u001b[32m━━━━━━━━━━━━━━━━━━━━\u001b[0m\u001b[37m\u001b[0m \u001b[1m608s\u001b[0m 13s/step - loss: 0.0345 - psnr_metric: 15.1096 - ssim_metric: 0.3927 - val_loss: 0.0380 - val_psnr_metric: 14.5300 - val_ssim_metric: 0.3616\n",
            "Epoch 7/20\n",
            "\u001b[1m45/45\u001b[0m \u001b[32m━━━━━━━━━━━━━━━━━━━━\u001b[0m\u001b[37m\u001b[0m \u001b[1m626s\u001b[0m 13s/step - loss: 0.0314 - psnr_metric: 15.5634 - ssim_metric: 0.4138 - val_loss: 0.0359 - val_psnr_metric: 14.8027 - val_ssim_metric: 0.3667\n",
            "Epoch 8/20\n",
            "\u001b[1m45/45\u001b[0m \u001b[32m━━━━━━━━━━━━━━━━━━━━\u001b[0m\u001b[37m\u001b[0m \u001b[1m622s\u001b[0m 13s/step - loss: 0.0291 - psnr_metric: 15.8552 - ssim_metric: 0.4069 - val_loss: 0.0351 - val_psnr_metric: 14.8906 - val_ssim_metric: 0.3676\n",
            "Epoch 9/20\n",
            "\u001b[1m45/45\u001b[0m \u001b[32m━━━━━━━━━━━━━━━━━━━━\u001b[0m\u001b[37m\u001b[0m \u001b[1m572s\u001b[0m 12s/step - loss: 0.0272 - psnr_metric: 16.2073 - ssim_metric: 0.4196 - val_loss: 0.0341 - val_psnr_metric: 15.0236 - val_ssim_metric: 0.3739\n",
            "Epoch 10/20\n",
            "\u001b[1m45/45\u001b[0m \u001b[32m━━━━━━━━━━━━━━━━━━━━\u001b[0m\u001b[37m\u001b[0m \u001b[1m610s\u001b[0m 13s/step - loss: 0.0267 - psnr_metric: 16.2465 - ssim_metric: 0.4232 - val_loss: 0.0334 - val_psnr_metric: 15.1311 - val_ssim_metric: 0.3785\n",
            "Epoch 11/20\n",
            "\u001b[1m45/45\u001b[0m \u001b[32m━━━━━━━━━━━━━━━━━━━━\u001b[0m\u001b[37m\u001b[0m \u001b[1m566s\u001b[0m 13s/step - loss: 0.0257 - psnr_metric: 16.4397 - ssim_metric: 0.4298 - val_loss: 0.0327 - val_psnr_metric: 15.2311 - val_ssim_metric: 0.3794\n",
            "Epoch 12/20\n",
            "\u001b[1m45/45\u001b[0m \u001b[32m━━━━━━━━━━━━━━━━━━━━\u001b[0m\u001b[37m\u001b[0m \u001b[1m622s\u001b[0m 13s/step - loss: 0.0249 - psnr_metric: 16.5753 - ssim_metric: 0.4338 - val_loss: 0.0336 - val_psnr_metric: 15.0985 - val_ssim_metric: 0.3826\n",
            "Epoch 13/20\n",
            "\u001b[1m45/45\u001b[0m \u001b[32m━━━━━━━━━━━━━━━━━━━━\u001b[0m\u001b[37m\u001b[0m \u001b[1m565s\u001b[0m 13s/step - loss: 0.0256 - psnr_metric: 16.4635 - ssim_metric: 0.4333 - val_loss: 0.0329 - val_psnr_metric: 15.1962 - val_ssim_metric: 0.3802\n",
            "Epoch 14/20\n",
            "\u001b[1m45/45\u001b[0m \u001b[32m━━━━━━━━━━━━━━━━━━━━\u001b[0m\u001b[37m\u001b[0m \u001b[1m622s\u001b[0m 13s/step - loss: 0.0248 - psnr_metric: 16.5839 - ssim_metric: 0.4377 - val_loss: 0.0321 - val_psnr_metric: 15.3089 - val_ssim_metric: 0.3823\n",
            "Epoch 15/20\n",
            "\u001b[1m45/45\u001b[0m \u001b[32m━━━━━━━━━━━━━━━━━━━━\u001b[0m\u001b[37m\u001b[0m \u001b[1m564s\u001b[0m 13s/step - loss: 0.0232 - psnr_metric: 16.8817 - ssim_metric: 0.4410 - val_loss: 0.0318 - val_psnr_metric: 15.3531 - val_ssim_metric: 0.3845\n",
            "Epoch 16/20\n",
            "\u001b[1m45/45\u001b[0m \u001b[32m━━━━━━━━━━━━━━━━━━━━\u001b[0m\u001b[37m\u001b[0m \u001b[1m564s\u001b[0m 13s/step - loss: 0.0230 - psnr_metric: 16.9193 - ssim_metric: 0.4453 - val_loss: 0.0321 - val_psnr_metric: 15.3160 - val_ssim_metric: 0.3825\n",
            "Epoch 17/20\n",
            "\u001b[1m45/45\u001b[0m \u001b[32m━━━━━━━━━━━━━━━━━━━━\u001b[0m\u001b[37m\u001b[0m \u001b[1m624s\u001b[0m 13s/step - loss: 0.0227 - psnr_metric: 16.9878 - ssim_metric: 0.4494 - val_loss: 0.0321 - val_psnr_metric: 15.3174 - val_ssim_metric: 0.3799\n",
            "Epoch 18/20\n",
            "\u001b[1m45/45\u001b[0m \u001b[32m━━━━━━━━━━━━━━━━━━━━\u001b[0m\u001b[37m\u001b[0m \u001b[1m516s\u001b[0m 12s/step - loss: 0.0225 - psnr_metric: 17.0294 - ssim_metric: 0.4476 - val_loss: 0.0321 - val_psnr_metric: 15.3159 - val_ssim_metric: 0.3829\n",
            "Epoch 19/20\n",
            "\u001b[1m45/45\u001b[0m \u001b[32m━━━━━━━━━━━━━━━━━━━━\u001b[0m\u001b[37m\u001b[0m \u001b[1m611s\u001b[0m 13s/step - loss: 0.0224 - psnr_metric: 17.0375 - ssim_metric: 0.4470 - val_loss: 0.0320 - val_psnr_metric: 15.3332 - val_ssim_metric: 0.3775\n",
            "Epoch 20/20\n",
            "\u001b[1m45/45\u001b[0m \u001b[32m━━━━━━━━━━━━━━━━━━━━\u001b[0m\u001b[37m\u001b[0m \u001b[1m623s\u001b[0m 13s/step - loss: 0.0217 - psnr_metric: 17.2176 - ssim_metric: 0.4549 - val_loss: 0.0322 - val_psnr_metric: 15.2980 - val_ssim_metric: 0.3762\n"
          ]
        }
      ]
    },
    {
      "cell_type": "code",
      "source": [
        "#plotting training vs validation loss\n",
        "plt.figure(figsize=(8,5))\n",
        "\n",
        "# Plot training & validation loss\n",
        "plt.plot(history.history['loss'], label='Training Loss')\n",
        "plt.plot(history.history['val_loss'], label='Validation Loss')\n",
        "\n",
        "plt.title('Training vs Validation Loss')\n",
        "plt.xlabel('Epochs')\n",
        "plt.ylabel('Loss')\n",
        "plt.legend()\n",
        "plt.grid(True)\n",
        "plt.show()"
      ],
      "metadata": {
        "id": "jUhgyD-J7OWT",
        "outputId": "aed86441-693a-40ca-97bc-e93aec40c684",
        "colab": {
          "base_uri": "https://localhost:8080/",
          "height": 487
        }
      },
      "execution_count": 12,
      "outputs": [
        {
          "output_type": "display_data",
          "data": {
            "text/plain": [
              "<Figure size 800x500 with 1 Axes>"
            ],
            "image/png": "[encoded data removed]"
          },
          "metadata": {}
        }
      ]
    }
  ]
}